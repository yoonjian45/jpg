{
 "cells": [
  {
   "cell_type": "markdown",
   "id": "792d7cde",
   "metadata": {},
   "source": [
    "#### 1번\n",
    "s = 'He there Sam!'을 입력하고 ['Hi','there','dad!']가 나오도록 코딩하세요"
   ]
  },
  {
   "cell_type": "code",
   "execution_count": 64,
   "id": "3e8eaa95",
   "metadata": {},
   "outputs": [
    {
     "name": "stdout",
     "output_type": "stream",
     "text": [
      "He there Sam!\n"
     ]
    }
   ],
   "source": [
    "s = 'He there Sam!'\n",
    "print(s)"
   ]
  },
  {
   "cell_type": "code",
   "execution_count": 65,
   "id": "d0e0fe52",
   "metadata": {},
   "outputs": [],
   "source": [
    "s = s.split()"
   ]
  },
  {
   "cell_type": "code",
   "execution_count": 66,
   "id": "715a8662",
   "metadata": {},
   "outputs": [
    {
     "data": {
      "text/plain": [
       "['He', 'there', 'Sam!']"
      ]
     },
     "execution_count": 66,
     "metadata": {},
     "output_type": "execute_result"
    }
   ],
   "source": [
    "s"
   ]
  },
  {
   "cell_type": "code",
   "execution_count": 67,
   "id": "10acbfc9",
   "metadata": {},
   "outputs": [],
   "source": [
    "s[2]='dad!'"
   ]
  },
  {
   "cell_type": "code",
   "execution_count": 68,
   "id": "e0f584b5",
   "metadata": {},
   "outputs": [
    {
     "data": {
      "text/plain": [
       "['He', 'there', 'dad!']"
      ]
     },
     "execution_count": 68,
     "metadata": {},
     "output_type": "execute_result"
    }
   ],
   "source": [
    "s"
   ]
  },
  {
   "cell_type": "markdown",
   "id": "a77ba37f",
   "metadata": {},
   "source": [
    "#### 2번\n",
    "아래 내용을 입력하고,The diametre of Earth is 12742 kilometeres.가 출력되도록 하세요.\n",
    "\n",
    "planet = 'earth'dianeter = 12742"
   ]
  },
  {
   "cell_type": "code",
   "execution_count": 9,
   "id": "6ab03d8a",
   "metadata": {},
   "outputs": [],
   "source": [
    "planet = 'earth'\n",
    "dianeter = 12742"
   ]
  },
  {
   "cell_type": "code",
   "execution_count": 12,
   "id": "f0449e36",
   "metadata": {},
   "outputs": [
    {
     "data": {
      "text/plain": [
       "'The dianetre of earth is 12742 kilometeres'"
      ]
     },
     "execution_count": 12,
     "metadata": {},
     "output_type": "execute_result"
    }
   ],
   "source": [
    "\"The dianetre of {} is {} kilometeres\".format(planet,dianeter)"
   ]
  },
  {
   "cell_type": "markdown",
   "id": "d734e49f",
   "metadata": {},
   "source": [
    "#### 3번\n",
    "아래 내용을 입력하고, 'hello'가 출력되도록 하세요.\n",
    "\n",
    "lst = [1,2,[3,4],[5,[100,200,['hello']],23,11],1,7]"
   ]
  },
  {
   "cell_type": "code",
   "execution_count": 13,
   "id": "e56a6dc4",
   "metadata": {},
   "outputs": [],
   "source": [
    "lst = [1,2,[3,4],[5,[100,200,['hello']],23,11],1,7]"
   ]
  },
  {
   "cell_type": "code",
   "execution_count": 1,
   "id": "c2a23c90",
   "metadata": {},
   "outputs": [
    {
     "ename": "NameError",
     "evalue": "name 'lst' is not defined",
     "output_type": "error",
     "traceback": [
      "\u001b[1;31m---------------------------------------------------------------------------\u001b[0m",
      "\u001b[1;31mNameError\u001b[0m                                 Traceback (most recent call last)",
      "\u001b[1;32mC:\\Users\\Public\\Documents\\ESTsoft\\CreatorTemp\\ipykernel_2268\\2060183112.py\u001b[0m in \u001b[0;36m<module>\u001b[1;34m\u001b[0m\n\u001b[1;32m----> 1\u001b[1;33m \u001b[0mlst\u001b[0m\u001b[1;33m[\u001b[0m\u001b[1;36m3\u001b[0m\u001b[1;33m]\u001b[0m\u001b[1;33m[\u001b[0m\u001b[1;36m1\u001b[0m\u001b[1;33m]\u001b[0m\u001b[1;33m[\u001b[0m\u001b[1;36m2\u001b[0m\u001b[1;33m]\u001b[0m\u001b[1;33m[\u001b[0m\u001b[1;36m0\u001b[0m\u001b[1;33m]\u001b[0m\u001b[1;33m\u001b[0m\u001b[1;33m\u001b[0m\u001b[0m\n\u001b[0m",
      "\u001b[1;31mNameError\u001b[0m: name 'lst' is not defined"
     ]
    }
   ],
   "source": [
    "lst[3][1][2][0]"
   ]
  },
  {
   "cell_type": "code",
   "execution_count": 2,
   "id": "6ce8f4a8",
   "metadata": {},
   "outputs": [],
   "source": [
    "an = [1,2,3,[4,5,[6]]]"
   ]
  },
  {
   "cell_type": "code",
   "execution_count": 3,
   "id": "fa47382a",
   "metadata": {},
   "outputs": [],
   "source": [
    "d = {'k1':[1,2,3,{'criky':['oh','man','inception',{'target':[1,2,3,'hello']}]}]}"
   ]
  },
  {
   "cell_type": "code",
   "execution_count": 4,
   "id": "415b61a7",
   "metadata": {},
   "outputs": [
    {
     "data": {
      "text/plain": [
       "'hello'"
      ]
     },
     "execution_count": 4,
     "metadata": {},
     "output_type": "execute_result"
    }
   ],
   "source": [
    "d[\"k1\"][3][\"criky\"][3][\"target\"][3]"
   ]
  },
  {
   "cell_type": "markdown",
   "id": "2831215e",
   "metadata": {},
   "source": [
    "4번\n",
    "아래를 입력하고'hello'가 출력되도록 하세요.\n",
    "\n",
    "d = {'k1':[1,2,3,{'criky':['oh','man','inception',{'target':[1,2,3,'hello']}]}]}"
   ]
  },
  {
   "cell_type": "code",
   "execution_count": 2,
   "id": "2419c5d1",
   "metadata": {},
   "outputs": [],
   "source": [
    "d = {'k1':[1,2,3,{'criky':['oh','man','inception',{'target':[1,2,3,'hello']}]}]}"
   ]
  },
  {
   "cell_type": "code",
   "execution_count": 9,
   "id": "0a8d1c71",
   "metadata": {},
   "outputs": [
    {
     "data": {
      "text/plain": [
       "'hello'"
      ]
     },
     "execution_count": 9,
     "metadata": {},
     "output_type": "execute_result"
    }
   ],
   "source": [
    "d[\"k1\"][3][\"criky\"][3][\"target\"][3]"
   ]
  },
  {
   "cell_type": "code",
   "execution_count": null,
   "id": "17d4a952",
   "metadata": {},
   "outputs": [],
   "source": []
  }
 ],
 "metadata": {
  "kernelspec": {
   "display_name": "Python 3 (ipykernel)",
   "language": "python",
   "name": "python3"
  },
  "language_info": {
   "codemirror_mode": {
    "name": "ipython",
    "version": 3
   },
   "file_extension": ".py",
   "mimetype": "text/x-python",
   "name": "python",
   "nbconvert_exporter": "python",
   "pygments_lexer": "ipython3",
   "version": "3.9.13"
  }
 },
 "nbformat": 4,
 "nbformat_minor": 5
}
