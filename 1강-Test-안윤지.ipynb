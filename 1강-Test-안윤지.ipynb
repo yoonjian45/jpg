{
 "cells": [
  {
   "cell_type": "markdown",
   "id": "e4980818",
   "metadata": {},
   "source": [
    "1번 \n",
    "s = 'Hi there Sam!' 을 활용하여 아래와 같이 출력되도록 하세요.  "
   ]
  },
  {
   "cell_type": "code",
   "execution_count": 10,
   "id": "1ba3bee8",
   "metadata": {},
   "outputs": [],
   "source": [
    "s = 'Hi there Sam!'"
   ]
  },
  {
   "cell_type": "code",
   "execution_count": 11,
   "id": "4717c7b4",
   "metadata": {},
   "outputs": [
    {
     "data": {
      "text/plain": [
       "['Hi', 'there', 'Sam!']"
      ]
     },
     "execution_count": 11,
     "metadata": {},
     "output_type": "execute_result"
    }
   ],
   "source": [
    "s.split()"
   ]
  },
  {
   "cell_type": "markdown",
   "id": "817975b3",
   "metadata": {},
   "source": [
    "2번 \n",
    "planet = \"Earth\"\n",
    "diameter = 12742\n",
    "위 변수들을 활용하여 아래와 같이 출력되도록 하세요."
   ]
  },
  {
   "cell_type": "code",
   "execution_count": 16,
   "id": "a8e5d16a",
   "metadata": {},
   "outputs": [],
   "source": [
    "planet = \"Earth\"\n",
    "diameter = 12742"
   ]
  },
  {
   "cell_type": "code",
   "execution_count": 18,
   "id": "1162f0ee",
   "metadata": {},
   "outputs": [
    {
     "data": {
      "text/plain": [
       "'The idameter of Earth is 12742 kilometers.'"
      ]
     },
     "execution_count": 18,
     "metadata": {},
     "output_type": "execute_result"
    }
   ],
   "source": [
    "\"The idameter of {} is {} kilometers.\".format(planet,diameter)"
   ]
  },
  {
   "cell_type": "markdown",
   "id": "a9f83e3c",
   "metadata": {},
   "source": [
    "3번 \n",
    "lst = [1,2,[3,4],[5,[100,200,['hello']],23,11],1,7] 을 활용하여 \n",
    "아래와 같이 출력되도록 하세요. \n"
   ]
  },
  {
   "cell_type": "code",
   "execution_count": 19,
   "id": "5be9214b",
   "metadata": {},
   "outputs": [],
   "source": [
    "lst = [1,2,[3,4],[5,[100,200,['hello']],23,11],1,7]"
   ]
  },
  {
   "cell_type": "code",
   "execution_count": 23,
   "id": "9378c624",
   "metadata": {},
   "outputs": [
    {
     "data": {
      "text/plain": [
       "'hello'"
      ]
     },
     "execution_count": 23,
     "metadata": {},
     "output_type": "execute_result"
    }
   ],
   "source": [
    "lst[3][1][2][0]"
   ]
  },
  {
   "cell_type": "markdown",
   "id": "642054eb",
   "metadata": {},
   "source": [
    "4번 \n",
    "\n",
    "d = {'k1':[1,2,3,{'tricky':['oh','man','inception',{'target':[1,2,3,'hello']}]}]}\n",
    "위 변수를 활용하여 'hello' 가 출력되도록 하세요. \n"
   ]
  },
  {
   "cell_type": "code",
   "execution_count": 25,
   "id": "dddae8e4",
   "metadata": {},
   "outputs": [],
   "source": [
    "d = {'k1':[1,2,3,{'tricky':['oh','man','inception',{'target':[1,2,3,'hello']}]}]}"
   ]
  },
  {
   "cell_type": "code",
   "execution_count": 33,
   "id": "9e2ffd07",
   "metadata": {},
   "outputs": [
    {
     "data": {
      "text/plain": [
       "'hello'"
      ]
     },
     "execution_count": 33,
     "metadata": {},
     "output_type": "execute_result"
    }
   ],
   "source": [
    "d['k1'][3]['tricky'][3]['target'][3]"
   ]
  },
  {
   "cell_type": "markdown",
   "id": "2c3b048c",
   "metadata": {},
   "source": [
    "5번 \n",
    "domainGet이라는 함수를 만들어서 아래와 같이 되도록 하세요.\n"
   ]
  },
  {
   "cell_type": "code",
   "execution_count": 53,
   "id": "5f9364e9",
   "metadata": {},
   "outputs": [],
   "source": [
    "domaInGet = 'uesr@domain.com'"
   ]
  },
  {
   "cell_type": "code",
   "execution_count": 64,
   "id": "2eea2aa5",
   "metadata": {
    "scrolled": true
   },
   "outputs": [
    {
     "data": {
      "text/plain": [
       "'domain.com'"
      ]
     },
     "execution_count": 64,
     "metadata": {},
     "output_type": "execute_result"
    }
   ],
   "source": [
    "domaInGet.split(\"@\")[1]"
   ]
  },
  {
   "cell_type": "code",
   "execution_count": 62,
   "id": "9551240d",
   "metadata": {
    "scrolled": true
   },
   "outputs": [
    {
     "ename": "TypeError",
     "evalue": "'str' object is not callable",
     "output_type": "error",
     "traceback": [
      "\u001b[1;31m---------------------------------------------------------------------------\u001b[0m",
      "\u001b[1;31mTypeError\u001b[0m                                 Traceback (most recent call last)",
      "\u001b[1;32mC:\\Users\\Public\\Documents\\ESTsoft\\CreatorTemp\\ipykernel_8200\\640002218.py\u001b[0m in \u001b[0;36m<module>\u001b[1;34m\u001b[0m\n\u001b[1;32m----> 1\u001b[1;33m \u001b[0mdomaInGet\u001b[0m\u001b[1;33m(\u001b[0m\u001b[1;34m'uesr@domain.com'\u001b[0m\u001b[1;33m)\u001b[0m\u001b[1;33m\u001b[0m\u001b[1;33m\u001b[0m\u001b[0m\n\u001b[0m",
      "\u001b[1;31mTypeError\u001b[0m: 'str' object is not callable"
     ]
    }
   ],
   "source": [
    "domaInGet('uesr@domain.com')"
   ]
  },
  {
   "cell_type": "markdown",
   "id": "ce7a7d87",
   "metadata": {},
   "source": [
    "6번 \n",
    "findDog라는 함수를 만드세요. 이 함수는 파라미터에 ‘dog’라는 단어가 있을 경우 True를 반환하도록 하고, 없으면 False를 출력하는 것입니다. 아래와 같이 출력되도록 하세요. "
   ]
  },
  {
   "cell_type": "code",
   "execution_count": 5,
   "id": "84fe046a",
   "metadata": {},
   "outputs": [],
   "source": [
    "def findDog(st):\n",
    "    return 'dog' in st.lower().split()"
   ]
  },
  {
   "cell_type": "code",
   "execution_count": 6,
   "id": "3460d1b3",
   "metadata": {},
   "outputs": [
    {
     "data": {
      "text/plain": [
       "True"
      ]
     },
     "execution_count": 6,
     "metadata": {},
     "output_type": "execute_result"
    }
   ],
   "source": [
    "findDog('Is there a dog here?')"
   ]
  },
  {
   "cell_type": "code",
   "execution_count": 9,
   "id": "f95868a0",
   "metadata": {},
   "outputs": [
    {
     "name": "stdout",
     "output_type": "stream",
     "text": [
      "['is', 'there', 'a', 'dog', 'here?']\n"
     ]
    }
   ],
   "source": [
    "string1 = \"Is there a dog here?\"\n",
    "print(string1.lower().split())"
   ]
  },
  {
   "cell_type": "code",
   "execution_count": 10,
   "id": "3e08ff53",
   "metadata": {},
   "outputs": [],
   "source": [
    "def findCat(st):\n",
    "    return 'cat' in st.lower().split()"
   ]
  },
  {
   "cell_type": "code",
   "execution_count": 11,
   "id": "5d6beb61",
   "metadata": {},
   "outputs": [
    {
     "data": {
      "text/plain": [
       "False"
      ]
     },
     "execution_count": 11,
     "metadata": {},
     "output_type": "execute_result"
    }
   ],
   "source": [
    "findCat('Is there a dog here?')"
   ]
  },
  {
   "cell_type": "markdown",
   "id": "afa6bae2",
   "metadata": {},
   "source": [
    "st.lower() -> 매개변수에 들어간 모든 문자를 소문자화 한다. \n",
    "\n",
    "st.lower().split() -> 공백을 기준으로 문자들을 나눠서 list형식으로 만들어즌다. "
   ]
  },
  {
   "cell_type": "markdown",
   "id": "27ec6c74",
   "metadata": {},
   "source": [
    "7번\n",
    "countDog라는 함수를 만드세요. 이 함수는 파라미터에 ‘dog’라는 단어의 개수를 세어주는 기능을 합니다. \n",
    "아래와 같이 되도록 코딩하세요. \n"
   ]
  },
  {
   "cell_type": "code",
   "execution_count": 27,
   "id": "a2779531",
   "metadata": {},
   "outputs": [],
   "source": [
    "def countDog(st):\n",
    "    count = 0\n",
    "    for word in st.lower().split():\n",
    "        if word =='dog':\n",
    "            count += 1\n",
    "    return count"
   ]
  },
  {
   "cell_type": "code",
   "execution_count": 28,
   "id": "23db3cba",
   "metadata": {
    "scrolled": true
   },
   "outputs": [
    {
     "data": {
      "text/plain": [
       "2"
      ]
     },
     "execution_count": 28,
     "metadata": {},
     "output_type": "execute_result"
    }
   ],
   "source": [
    "countDog(\"This dog rund raster than the other dog dude!\")"
   ]
  },
  {
   "cell_type": "markdown",
   "id": "1fd27de4",
   "metadata": {},
   "source": [
    "8번\n",
    " seq = ['soup','dog','salad','cat','great'] 라는 변수를 활용하여 단어 맨 앞에 ‘s’가 포함된 단어만 아래와 같이 출력되도록 코딩하세요. \n",
    "\n",
    "['soup', 'salad']"
   ]
  },
  {
   "cell_type": "code",
   "execution_count": 30,
   "id": "15391976",
   "metadata": {},
   "outputs": [],
   "source": [
    "seq = ['soup','dog','salad','cat','great'] "
   ]
  },
  {
   "cell_type": "code",
   "execution_count": 31,
   "id": "4c6dd42c",
   "metadata": {},
   "outputs": [
    {
     "data": {
      "text/plain": [
       "['soup', 'salad']"
      ]
     },
     "execution_count": 31,
     "metadata": {},
     "output_type": "execute_result"
    }
   ],
   "source": [
    "list(filter(lambda word: word[0] == 's',seq))"
   ]
  },
  {
   "cell_type": "markdown",
   "id": "6804a973",
   "metadata": {},
   "source": [
    "9번 (20점)\n",
    "caught_speeding이라는 함수를 만드세요. 속도를 파라미터로 입력하면 그에 따른 범칙금 내용이 출력되도록 만드세요. 시속 80키로가 넘으면 '범칙금 8만원', 시속 60키로가 넘으면 '범칙금 6만원', 60키로 이하인 경우에는 '범칙금 없음'이 출력되도록 하세요. \n",
    "caught_speeding이라는 함수를 사용하여 아래와 같은 결과가 나오도록 하세요. \n"
   ]
  },
  {
   "cell_type": "code",
   "execution_count": 33,
   "id": "88fed04b",
   "metadata": {},
   "outputs": [],
   "source": [
    "def caught_speeding(speed):\n",
    "    \n",
    "    if speed > 80:\n",
    "        return \"범칙금 8만원\"\n",
    "    elif speed > 60:\n",
    "        return \"범칙금 6만원\"\n",
    "    else:\n",
    "        return \"범칙금 없음\""
   ]
  },
  {
   "cell_type": "code",
   "execution_count": 34,
   "id": "734d0401",
   "metadata": {},
   "outputs": [
    {
     "data": {
      "text/plain": [
       "'범칙금 8만원'"
      ]
     },
     "execution_count": 34,
     "metadata": {},
     "output_type": "execute_result"
    }
   ],
   "source": [
    " caught_speeding(81)"
   ]
  },
  {
   "cell_type": "code",
   "execution_count": 35,
   "id": "b742db70",
   "metadata": {},
   "outputs": [
    {
     "data": {
      "text/plain": [
       "'범칙금 6만원'"
      ]
     },
     "execution_count": 35,
     "metadata": {},
     "output_type": "execute_result"
    }
   ],
   "source": [
    " caught_speeding(65)"
   ]
  },
  {
   "cell_type": "code",
   "execution_count": 36,
   "id": "1cea0544",
   "metadata": {},
   "outputs": [
    {
     "data": {
      "text/plain": [
       "'범칙금 없음'"
      ]
     },
     "execution_count": 36,
     "metadata": {},
     "output_type": "execute_result"
    }
   ],
   "source": [
    " caught_speeding(55)"
   ]
  },
  {
   "cell_type": "code",
   "execution_count": 55,
   "id": "9ef070fd",
   "metadata": {},
   "outputs": [],
   "source": [
    "def countS(st):\n",
    "    count = 0\n",
    "    for word in st.lower().split():\n",
    "        if word =='s':\n",
    "            count += 1\n",
    "    return count"
   ]
  },
  {
   "cell_type": "code",
   "execution_count": 71,
   "id": "da721ef2",
   "metadata": {},
   "outputs": [],
   "source": [
    "def caught_speeding(speed):\n",
    "    if speed >= 90:\n",
    "        print(\"A학점\")\n",
    "    elif speed >= 80 and speed <= 89:\n",
    "        print(\"B 학점\")\n",
    "    elif speed >= 70 and speed <= 79:\n",
    "        print(\"C 학점\")\n",
    "    else:\n",
    "        print(\"낙제\")"
   ]
  },
  {
   "cell_type": "code",
   "execution_count": 72,
   "id": "3edbea20",
   "metadata": {},
   "outputs": [
    {
     "name": "stdout",
     "output_type": "stream",
     "text": [
      "A학점\n"
     ]
    }
   ],
   "source": [
    "caught_speeding(91)"
   ]
  },
  {
   "cell_type": "code",
   "execution_count": 73,
   "id": "e9a09c39",
   "metadata": {},
   "outputs": [
    {
     "name": "stdout",
     "output_type": "stream",
     "text": [
      "B 학점\n"
     ]
    }
   ],
   "source": [
    "caught_speeding(88)"
   ]
  },
  {
   "cell_type": "code",
   "execution_count": 74,
   "id": "acd93031",
   "metadata": {},
   "outputs": [
    {
     "name": "stdout",
     "output_type": "stream",
     "text": [
      "C 학점\n"
     ]
    }
   ],
   "source": [
    "caught_speeding(70)"
   ]
  },
  {
   "cell_type": "code",
   "execution_count": 75,
   "id": "bc557510",
   "metadata": {},
   "outputs": [
    {
     "name": "stdout",
     "output_type": "stream",
     "text": [
      "낙제\n"
     ]
    }
   ],
   "source": [
    "caught_speeding(0)"
   ]
  },
  {
   "cell_type": "code",
   "execution_count": 59,
   "id": "a6d6e882",
   "metadata": {},
   "outputs": [],
   "source": [
    "caught_speeding(44)"
   ]
  },
  {
   "cell_type": "code",
   "execution_count": 56,
   "id": "7c112dbd",
   "metadata": {},
   "outputs": [],
   "source": [
    "countS=['soup','dog','salad','cat','great']"
   ]
  }
 ],
 "metadata": {
  "kernelspec": {
   "display_name": "Python 3 (ipykernel)",
   "language": "python",
   "name": "python3"
  },
  "language_info": {
   "codemirror_mode": {
    "name": "ipython",
    "version": 3
   },
   "file_extension": ".py",
   "mimetype": "text/x-python",
   "name": "python",
   "nbconvert_exporter": "python",
   "pygments_lexer": "ipython3",
   "version": "3.9.13"
  }
 },
 "nbformat": 4,
 "nbformat_minor": 5
}
